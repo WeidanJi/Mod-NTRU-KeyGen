{
 "cells": [
  {
   "cell_type": "code",
   "execution_count": 1,
   "metadata": {},
   "outputs": [
    {
     "name": "stdout",
     "output_type": "stream",
     "text": [
      "n=4\n",
      "q=30977\n",
      "k=15\n"
     ]
    }
   ],
   "source": [
    "n = 2**2\n",
    "q = random_prime(n**8, lbound=n**7)\n",
    "k = 0\n",
    "while 2 ** k < q:\n",
    "    k += 1\n",
    "    \n",
    "Zx.<x> = ZZ[]\n",
    "\n",
    "print(f\"n={n}\")\n",
    "print(f\"q={q}\")\n",
    "print(f\"k={k}\")"
   ]
  },
  {
   "cell_type": "code",
   "execution_count": 2,
   "metadata": {},
   "outputs": [],
   "source": [
    "def invert_mod_q(f):\n",
    "    # f in ZZ[x], f^(-1) in ZZ[x]\n",
    "    # ((f * f^(-1)) % (x^n + 1)) % q = 1\n",
    "    \n",
    "    T = Zx.change_ring(Integers(q)).quotient(x^n+1)\n",
    "    return Zx(lift(1/T(f)))"
   ]
  },
  {
   "cell_type": "code",
   "execution_count": 3,
   "metadata": {},
   "outputs": [],
   "source": [
    "from sage.stats.distributions.discrete_gaussian_polynomial import DiscreteGaussianDistributionPolynomialSampler\n",
    "from math import sqrt\n",
    "\n",
    "def generate_trapdoor():\n",
    "    # generate trapdoor matrix B, list[[]] representation\n",
    "    magic_constant = [k * (0.1 + 0.002 * i) for i in range(k)]\n",
    "\n",
    "    B = [[None for j in range(k + 1)] for i in range(k + 1)]\n",
    "\n",
    "    eta = 1\n",
    "    for i in range(k):\n",
    "        for j in range(k + 1):\n",
    "            sigma = magic_constant[i] * (q ** (1 / (k + 1)))\n",
    "            sig = sqrt(1 / (n * (k + 1 - i))) * sigma\n",
    "            B[i][j] = DiscreteGaussianDistributionPolynomialSampler(Zx, n, sig)()\n",
    "    \n",
    "    return B"
   ]
  },
  {
   "cell_type": "code",
   "execution_count": 4,
   "metadata": {},
   "outputs": [],
   "source": [
    "def submatrix(M, row, col):\n",
    "    nrow = len(M)\n",
    "    ncol = len(M[0])\n",
    "    rep = [[M[i][j] for j in range(ncol) if j != col] for i in range(nrow) if i != row]\n",
    "    return rep"
   ]
  },
  {
   "cell_type": "code",
   "execution_count": 5,
   "metadata": {},
   "outputs": [],
   "source": [
    "def matrix_invert_mod_q(f):\n",
    "    # matrix: f in ZZ[x], f^(-1) in ZZ[x]\n",
    "    # ((f * f^(-1)) % (x^n+1)) % q = 1\n",
    "    \n",
    "    f_det = f.determinant()\n",
    "    f_det_inv = invert_mod_q(f_det)\n",
    "    f_adj = f.adjugate()\n",
    "    f_inv = f_adj * f_det_inv\n",
    "    return f_det, f_adj, f_inv"
   ]
  },
  {
   "cell_type": "code",
   "execution_count": 6,
   "metadata": {},
   "outputs": [],
   "source": [
    "def neg_mat(M):\n",
    "    # M in [[]]\n",
    "    # calculate the negative of a matrix\n",
    "    return [[-M[i][j] for j in range(k)] for i in range(k)]"
   ]
  },
  {
   "cell_type": "code",
   "execution_count": 40,
   "metadata": {},
   "outputs": [],
   "source": [
    "B = generate_trapdoor()"
   ]
  },
  {
   "cell_type": "code",
   "execution_count": 41,
   "metadata": {},
   "outputs": [],
   "source": [
    "f = matrix(Zx, neg_mat(submatrix(B, k, 0)))"
   ]
  },
  {
   "cell_type": "code",
   "execution_count": 42,
   "metadata": {},
   "outputs": [],
   "source": [
    "f_det, f_adj, f_inv = matrix_invert_mod_q(f)"
   ]
  },
  {
   "cell_type": "code",
   "execution_count": 43,
   "metadata": {},
   "outputs": [
    {
     "data": {
      "text/plain": [
       "[1 0 0 0 0 0 0 0 0 0 0 0 0 0 0]\n",
       "[0 1 0 0 0 0 0 0 0 0 0 0 0 0 0]\n",
       "[0 0 1 0 0 0 0 0 0 0 0 0 0 0 0]\n",
       "[0 0 0 1 0 0 0 0 0 0 0 0 0 0 0]\n",
       "[0 0 0 0 1 0 0 0 0 0 0 0 0 0 0]\n",
       "[0 0 0 0 0 1 0 0 0 0 0 0 0 0 0]\n",
       "[0 0 0 0 0 0 1 0 0 0 0 0 0 0 0]\n",
       "[0 0 0 0 0 0 0 1 0 0 0 0 0 0 0]\n",
       "[0 0 0 0 0 0 0 0 1 0 0 0 0 0 0]\n",
       "[0 0 0 0 0 0 0 0 0 1 0 0 0 0 0]\n",
       "[0 0 0 0 0 0 0 0 0 0 1 0 0 0 0]\n",
       "[0 0 0 0 0 0 0 0 0 0 0 1 0 0 0]\n",
       "[0 0 0 0 0 0 0 0 0 0 0 0 1 0 0]\n",
       "[0 0 0 0 0 0 0 0 0 0 0 0 0 1 0]\n",
       "[0 0 0 0 0 0 0 0 0 0 0 0 0 0 1]"
      ]
     },
     "execution_count": 43,
     "metadata": {},
     "output_type": "execute_result"
    }
   ],
   "source": [
    "((f_inv * f)% (x^n+1)) % q"
   ]
  },
  {
   "cell_type": "code",
   "execution_count": 44,
   "metadata": {},
   "outputs": [],
   "source": [
    "g = matrix(Zx, k, 1, [B[j][0] for j in range(k)])"
   ]
  },
  {
   "cell_type": "code",
   "execution_count": 45,
   "metadata": {},
   "outputs": [],
   "source": [
    "h = ((f_inv * g) % (x^n + 1)) % q  # h = f^(-1) * g mod q"
   ]
  },
  {
   "cell_type": "code",
   "execution_count": 46,
   "metadata": {},
   "outputs": [],
   "source": [
    "g_adjf = Zx(list((f_adj * g) % (x^n + 1))[0][0])"
   ]
  },
  {
   "cell_type": "code",
   "execution_count": 47,
   "metadata": {},
   "outputs": [],
   "source": [
    "def xgcd_mod(f, g):\n",
    "    df, uf, vf = (f % (x^n + 1)).xgcd(x^n + 1)\n",
    "    dg, ug, vg = (g % (x^n + 1)).xgcd(x^n + 1)\n",
    "    return df, dg, uf, ug"
   ]
  },
  {
   "cell_type": "code",
   "execution_count": 48,
   "metadata": {},
   "outputs": [
    {
     "data": {
      "text/plain": [
       "(131755222727167512938929,\n",
       " 224132819068681139665296,\n",
       " 166650810641792916*x^3 + 142593438782008252*x^2 - 2326140005957730*x + 58431914971302191,\n",
       " 236832300623487816*x^3 + 130030750509637104*x^2 - 70247868910310160*x + 210711712687962336)"
      ]
     },
     "execution_count": 48,
     "metadata": {},
     "output_type": "execute_result"
    }
   ],
   "source": [
    "xgcd_mod(f_det, g_adjf)"
   ]
  },
  {
   "cell_type": "code",
   "execution_count": 49,
   "metadata": {},
   "outputs": [],
   "source": [
    "rf, rg, _pf, _pg = xgcd_mod(f_det, g_adjf)"
   ]
  },
  {
   "cell_type": "code",
   "execution_count": 50,
   "metadata": {},
   "outputs": [
    {
     "data": {
      "text/plain": [
       "1"
      ]
     },
     "execution_count": 50,
     "metadata": {},
     "output_type": "execute_result"
    }
   ],
   "source": [
    "gcd(rf, rg)"
   ]
  },
  {
   "cell_type": "code",
   "execution_count": 51,
   "metadata": {},
   "outputs": [
    {
     "data": {
      "text/plain": [
       "1"
      ]
     },
     "execution_count": 51,
     "metadata": {},
     "output_type": "execute_result"
    }
   ],
   "source": [
    "gcd(rf, q)"
   ]
  },
  {
   "cell_type": "code",
   "execution_count": 52,
   "metadata": {},
   "outputs": [],
   "source": [
    "def to_bar(f):\n",
    "    return Zx([f[0]]+[-f[n - i] for i in range(1, n)])"
   ]
  },
  {
   "cell_type": "code",
   "execution_count": 53,
   "metadata": {},
   "outputs": [],
   "source": [
    "def cal_FG(f, g):\n",
    "    rf, rg, _pf, _pg = xgcd_mod(f, g)\n",
    "    d, u, v = rf.xgcd(rg)\n",
    "    F = (q * v * (-1) * _pg) % (x^n + 1)\n",
    "    G = (q * u * _pf) % (x^n + 1)\n",
    "    a = (f * to_bar(f) + g * to_bar(g)) % (x^n + 1)\n",
    "    b = (F * to_bar(f) + G * to_bar(g)) % (x^n + 1)\n",
    "#     k = Zx([int(list(b)[i]/list(a)[i]) for i in range(n)])\n",
    "    return F, G"
   ]
  },
  {
   "cell_type": "code",
   "execution_count": 54,
   "metadata": {},
   "outputs": [],
   "source": [
    "F, G = cal_FG(f_det, g_adjf)"
   ]
  },
  {
   "cell_type": "code",
   "execution_count": 55,
   "metadata": {},
   "outputs": [],
   "source": [
    "ffgg = (f_det * to_bar(f_det) + g_adjf * to_bar(g_adjf)) % (x^n + 1)"
   ]
  },
  {
   "cell_type": "code",
   "execution_count": 56,
   "metadata": {},
   "outputs": [],
   "source": [
    "fFgG = (F * to_bar(f_det) + G * to_bar(g_adjf)) % (x^n + 1)"
   ]
  },
  {
   "cell_type": "code",
   "execution_count": 57,
   "metadata": {},
   "outputs": [],
   "source": [
    "dfg, ufg, vfg = ffgg.xgcd(x^n + 1)"
   ]
  },
  {
   "cell_type": "code",
   "execution_count": 58,
   "metadata": {},
   "outputs": [],
   "source": [
    "def convert_to_Zx(f):\n",
    "    return Zx([int(i) for i in f])"
   ]
  },
  {
   "cell_type": "code",
   "execution_count": 59,
   "metadata": {},
   "outputs": [],
   "source": [
    "def round_(f, num):\n",
    "    # f in Zx\n",
    "    return Zx([round(list(f)[i]/num) for i in range(n)])"
   ]
  },
  {
   "cell_type": "code",
   "execution_count": 60,
   "metadata": {},
   "outputs": [],
   "source": [
    "k_fg = round_(convert_to_Zx((ufg * fFgG) % (x^n + 1)), int(dfg))"
   ]
  },
  {
   "cell_type": "code",
   "execution_count": 61,
   "metadata": {},
   "outputs": [
    {
     "data": {
      "text/plain": [
       "114616506216232400033269522681478744402127168*x^3 + 62929213138805761658153173979567881562308992*x^2 - 33996905331067539991689335666250200466007680*x + 101975280667174475493390067617856600518544128"
      ]
     },
     "execution_count": 61,
     "metadata": {},
     "output_type": "execute_result"
    }
   ],
   "source": [
    "F"
   ]
  },
  {
   "cell_type": "code",
   "execution_count": 62,
   "metadata": {},
   "outputs": [
    {
     "data": {
      "text/plain": [
       "137199104526712158478572851378230647026806740*x^3 + 117393321022165326427278865842929392440134780*x^2 - 1915048145233120126603168713110776046568450*x + 48105415023004879448250918118688795433739615"
      ]
     },
     "execution_count": 62,
     "metadata": {},
     "output_type": "execute_result"
    }
   ],
   "source": [
    "G"
   ]
  },
  {
   "cell_type": "code",
   "execution_count": 63,
   "metadata": {},
   "outputs": [
    {
     "data": {
      "text/plain": [
       "30977"
      ]
     },
     "execution_count": 63,
     "metadata": {},
     "output_type": "execute_result"
    }
   ],
   "source": [
    "(f_det * G - g_adjf * F) % (x^n + 1) # f * G - g * F = q"
   ]
  },
  {
   "cell_type": "code",
   "execution_count": 64,
   "metadata": {},
   "outputs": [],
   "source": [
    "# Reduce F and G, F = F - k * f, G = G - k * g\n",
    "F_ = F - (k_fg * (f_det % (x^n + 1))) % (x^n + 1)\n",
    "G_ = G - (k_fg * (g_adjf % (x^n + 1))) % (x^n + 1)"
   ]
  },
  {
   "cell_type": "code",
   "execution_count": 65,
   "metadata": {},
   "outputs": [
    {
     "data": {
      "text/plain": [
       "30977"
      ]
     },
     "execution_count": 65,
     "metadata": {},
     "output_type": "execute_result"
    }
   ],
   "source": [
    "(f_det * G_ - g_adjf * F_) % (x^n + 1) # f * G - g * F = q, after reduce"
   ]
  },
  {
   "cell_type": "code",
   "execution_count": 66,
   "metadata": {},
   "outputs": [],
   "source": [
    "# insert F, G into trapdoor matrix B\n",
    "B[k][0] = G_\n",
    "B[k][1] = -F_\n",
    "for i in range(2, k + 1):\n",
    "    B[k][i] = Zx([0])"
   ]
  },
  {
   "cell_type": "code",
   "execution_count": 67,
   "metadata": {},
   "outputs": [],
   "source": [
    "B = matrix(Zx, k + 1, k + 1, B)"
   ]
  },
  {
   "cell_type": "code",
   "execution_count": 68,
   "metadata": {},
   "outputs": [],
   "source": [
    "# A = [1 h]^T\n",
    "A = [None for j in range(k + 1)]\n",
    "for j in range(1, k + 1):\n",
    "    A[j] = h[j - 1][0]\n",
    "A[0] = Zx([1])"
   ]
  },
  {
   "cell_type": "code",
   "execution_count": 69,
   "metadata": {},
   "outputs": [],
   "source": [
    "A = matrix(Zx, k + 1, 1, A)"
   ]
  },
  {
   "cell_type": "code",
   "execution_count": 72,
   "metadata": {},
   "outputs": [
    {
     "data": {
      "text/plain": [
       "[0]\n",
       "[0]\n",
       "[0]\n",
       "[0]\n",
       "[0]\n",
       "[0]\n",
       "[0]\n",
       "[0]\n",
       "[0]\n",
       "[0]\n",
       "[0]\n",
       "[0]\n",
       "[0]\n",
       "[0]\n",
       "[0]\n",
       "[0]"
      ]
     },
     "execution_count": 72,
     "metadata": {},
     "output_type": "execute_result"
    }
   ],
   "source": [
    "((B * A) % (x^n + 1)) % q"
   ]
  },
  {
   "cell_type": "code",
   "execution_count": 74,
   "metadata": {},
   "outputs": [
    {
     "data": {
      "text/plain": [
       "30977"
      ]
     },
     "execution_count": 74,
     "metadata": {},
     "output_type": "execute_result"
    }
   ],
   "source": [
    "(B.determinant()) % (x^n + 1)"
   ]
  }
 ],
 "metadata": {
  "kernelspec": {
   "display_name": "SageMath 9.3",
   "language": "sage",
   "name": "sagemath-9.3"
  },
  "language_info": {
   "codemirror_mode": {
    "name": "ipython",
    "version": 3
   },
   "file_extension": ".py",
   "mimetype": "text/x-python",
   "name": "python",
   "nbconvert_exporter": "python",
   "pygments_lexer": "ipython3",
   "version": "3.9.2"
  }
 },
 "nbformat": 4,
 "nbformat_minor": 4
}
