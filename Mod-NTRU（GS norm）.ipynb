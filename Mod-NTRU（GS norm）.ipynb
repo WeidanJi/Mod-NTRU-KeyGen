{
 "cells": [
  {
   "cell_type": "code",
   "execution_count": 1,
   "metadata": {},
   "outputs": [],
   "source": [
    "def invert_mod_q(f):\n",
    "    # f in ZZ[x], f^(-1) in ZZ[x]\n",
    "    # ((f * f^(-1)) % (x^n + 1)) % q = 1\n",
    "    \n",
    "    T = Zx.change_ring(Integers(q)).quotient(x^n+1)\n",
    "    return Zx(lift(1/T(f)))"
   ]
  },
  {
   "cell_type": "code",
   "execution_count": 2,
   "metadata": {},
   "outputs": [],
   "source": [
    "from sage.stats.distributions.discrete_gaussian_polynomial import DiscreteGaussianDistributionPolynomialSampler\n",
    "from math import sqrt\n",
    "\n",
    "def generate_trapdoor():\n",
    "    # generate trapdoor matrix B, list[[]] representation\n",
    "    magic_constant = [k * (0.1 + 0.002 * i) for i in range(k)]\n",
    "\n",
    "    B = [[None for j in range(k + 1)] for i in range(k + 1)]\n",
    "\n",
    "    eta = 1\n",
    "    for i in range(k):\n",
    "        for j in range(k + 1):\n",
    "            sigma = magic_constant[i] * (q ** (1 / (k + 1)))\n",
    "            sig = sqrt(1 / (n * (k + 1 - i))) * sigma\n",
    "            B[i][j] = DiscreteGaussianDistributionPolynomialSampler(Zx, n, sig)()\n",
    "    \n",
    "    return B"
   ]
  },
  {
   "cell_type": "code",
   "execution_count": 3,
   "metadata": {},
   "outputs": [],
   "source": [
    "def submatrix(M, row, col):\n",
    "    nrow = len(M)\n",
    "    ncol = len(M[0])\n",
    "    rep = [[M[i][j] for j in range(ncol) if j != col] for i in range(nrow) if i != row]\n",
    "    return rep"
   ]
  },
  {
   "cell_type": "code",
   "execution_count": 4,
   "metadata": {},
   "outputs": [],
   "source": [
    "def matrix_invert_mod_q(f):\n",
    "    # matrix: f in ZZ[x], f^(-1) in ZZ[x]\n",
    "    # ((f * f^(-1)) % (x^n+1)) % q = 1\n",
    "    \n",
    "    f_det = f.determinant()\n",
    "    f_det_inv = invert_mod_q(f_det)\n",
    "    f_adj = f.adjugate()\n",
    "    f_inv = f_adj * f_det_inv\n",
    "    return f_det, f_adj, f_inv"
   ]
  },
  {
   "cell_type": "code",
   "execution_count": 5,
   "metadata": {},
   "outputs": [],
   "source": [
    "def neg_mat(M):\n",
    "    # M in [[]]\n",
    "    # calculate the negative of a matrix\n",
    "    return [[-M[i][j] for j in range(k)] for i in range(k)]"
   ]
  },
  {
   "cell_type": "code",
   "execution_count": 6,
   "metadata": {},
   "outputs": [],
   "source": [
    "def xgcd_mod(f, g):\n",
    "    # uf * f = df mod (x^n + 1)\n",
    "    # ug * g = dg mod (x^n + 1)\n",
    "    # df, dg in Z\n",
    "    # uf, ug in Z[x]/(x^n + 1)\n",
    "    df, uf, vf = (f % (x^n + 1)).xgcd(x^n + 1)\n",
    "    dg, ug, vg = (g % (x^n + 1)).xgcd(x^n + 1)\n",
    "    return df, dg, uf, ug"
   ]
  },
  {
   "cell_type": "code",
   "execution_count": 7,
   "metadata": {},
   "outputs": [],
   "source": [
    "def to_bar(f):\n",
    "    return Zx([f[0]]+[-f[n - i] for i in range(1, n)])"
   ]
  },
  {
   "cell_type": "code",
   "execution_count": 8,
   "metadata": {},
   "outputs": [],
   "source": [
    "def cal_FG(f, g):\n",
    "    rf, rg, _pf, _pg = xgcd_mod(f, g)\n",
    "    d, u, v = rf.xgcd(rg)\n",
    "    F = (q * v * (-1) * _pg) % (x^n + 1)\n",
    "    G = (q * u * _pf) % (x^n + 1)\n",
    "    return F, G"
   ]
  },
  {
   "cell_type": "code",
   "execution_count": 9,
   "metadata": {},
   "outputs": [],
   "source": [
    "def convert_to_Zx(f):\n",
    "    return Zx([int(i) for i in f])"
   ]
  },
  {
   "cell_type": "code",
   "execution_count": 10,
   "metadata": {},
   "outputs": [],
   "source": [
    "def round_(f, num):\n",
    "    # f in Zx\n",
    "    # round(f/num) in Z[x]/(x^n + 1)\n",
    "    return Zx([round(list(f)[i]/num) for i in range(n)])"
   ]
  },
  {
   "cell_type": "code",
   "execution_count": 11,
   "metadata": {},
   "outputs": [],
   "source": [
    "def cal_ele_norm(ele):\n",
    "    return math.sqrt(sum([float(i)**2 for i in ele]))"
   ]
  },
  {
   "cell_type": "code",
   "execution_count": 12,
   "metadata": {},
   "outputs": [],
   "source": [
    "def cal_vec_norm(vec):\n",
    "    return math.sqrt(sum([cal_ele_norm(ele)**2 for ele in vec]))"
   ]
  },
  {
   "cell_type": "code",
   "execution_count": 13,
   "metadata": {},
   "outputs": [],
   "source": [
    "def cal_mat_norm(mat):\n",
    "    return max([cal_vec_norm(vec) for vec in mat])"
   ]
  },
  {
   "cell_type": "code",
   "execution_count": 14,
   "metadata": {},
   "outputs": [
    {
     "name": "stdout",
     "output_type": "stream",
     "text": [
      "n=4\n",
      "q=44579\n",
      "k=16\n"
     ]
    }
   ],
   "source": [
    "n = 2**2\n",
    "q = random_prime(n**8, lbound=n**7)\n",
    "k = 0\n",
    "while 2 ** k < q:\n",
    "    k += 1\n",
    "    \n",
    "Zx.<x> = ZZ[]\n",
    "\n",
    "print(f\"n={n}\")\n",
    "print(f\"q={q}\")\n",
    "print(f\"k={k}\")"
   ]
  },
  {
   "cell_type": "code",
   "execution_count": 15,
   "metadata": {},
   "outputs": [],
   "source": [
    "max_gs_norm = k * float(q ** (1 / (k + 1)))"
   ]
  },
  {
   "cell_type": "code",
   "execution_count": 27,
   "metadata": {},
   "outputs": [],
   "source": [
    "def mod_ntru_gen():\n",
    "    while(true):\n",
    "        B = generate_trapdoor()\n",
    "        f = matrix(Zx, neg_mat(submatrix(B, k, 0)))\n",
    "        g = matrix(Zx, k, 1, [B[j][0] for j in range(k)])\n",
    "        try:\n",
    "            f_det, f_adj, f_inv = matrix_invert_mod_q(f)  # f^(-1) mod q\n",
    "        except (ZeroDivisionError, ValueError):\n",
    "            continue\n",
    "            \n",
    "        h = ((f_inv * g) % (x^n + 1)) % q  # h = f^(-1) * g mod q\n",
    "\n",
    "        # generate A = [1 h]\n",
    "        A = [None for j in range(k + 1)]  \n",
    "        for j in range(1, k + 1):\n",
    "            A[j] = h[j - 1][0]\n",
    "        A[0] = Zx([1])\n",
    "\n",
    "        # generate F, G by f, g\n",
    "        g_adjf = Zx(list((f_adj * g) % (x^n + 1))[0][0])\n",
    "        rf, rg, _pf, _pg = xgcd_mod(f_det, g_adjf)\n",
    "        \n",
    "        if gcd(rf, rg)!=1 or gcd(rf, q)!=1:\n",
    "            continue\n",
    "            \n",
    "        F, G = cal_FG(f_det, g_adjf)\n",
    "\n",
    "        # reduce F, G by F = F-k * f, G = G - k * g\n",
    "        ffgg = (f_det * to_bar(f_det) + g_adjf * to_bar(g_adjf)) % (x^n + 1)\n",
    "        fFgG = (F * to_bar(f_det) + G * to_bar(g_adjf)) % (x^n + 1)\n",
    "        dfg, ufg, vfg = ffgg.xgcd(x^n + 1)\n",
    "        k_fg = round_(convert_to_Zx((ufg * fFgG) % (x^n + 1)), int(dfg))\n",
    "        F_ = F - (k_fg * (f_det % (x^n + 1))) % (x^n + 1)\n",
    "        G_ = G - (k_fg * (g_adjf % (x^n + 1))) % (x^n + 1)\n",
    "\n",
    "        # insert F, G into trapdoor matrix B\n",
    "        B[k][0] = G_\n",
    "        B[k][1] = -F_\n",
    "        for i in range(2, k + 1):\n",
    "            B[k][i] = Zx([0])\n",
    "            \n",
    "        print(B)\n",
    "        # transform A, B from list to ring matrix in Z[x]/(x^n + 1)\n",
    "        A_matZ = matrix(Zx, k + 1, 1, A)\n",
    "        B_matZ = matrix(Zx, k + 1, k + 1, B)\n",
    "\n",
    "        return A_matZ, B_matZ\n",
    "\n",
    "        \n"
   ]
  },
  {
   "cell_type": "code",
   "execution_count": 29,
   "metadata": {},
   "outputs": [
    {
     "name": "stdout",
     "output_type": "stream",
     "text": [
      "[[1, 0, 0, 0, 0, 0, 0, 0, 0, 0, -1, 0, x^2, 0, 0, -x^3, 0], [0, 0, 0, x^2, 0, 0, 0, 0, 0, 0, 0, x^3, 1, 0, 0, 0, 0], [0, 0, 0, 0, 0, 0, -x^3, 0, -x, 0, -x, x^3 - 1, 0, x^3 - 1, 0, 0, 0], [x^2, 0, -x^3, 0, 0, -x^2, x, 0, 0, 0, 0, 0, 0, 0, -x, 1, x^2], [0, 0, x^3 + x^2, x^3, -1, 0, 0, 0, 0, 0, 0, -x^3, 0, 0, -x, -x^3 - x, 0], [1, x, x^3 + x^2, 0, 0, -x^3, 0, 0, 0, x^2, 0, x^2, -x^3 + x, x^3, 0, 0, x^2], [x^2, x - 1, 0, -x^3 + 1, 0, 0, -x^3 + x - 1, 0, -1, 0, x^2 + 1, x^3 + x^2, -x^3 + 1, x^2, -x^2 + 1, x^3, -x^3 + x], [0, x^2, 0, -x, -x^2, x^3 - 1, x, -1, 0, -x^2, 0, x^3 + 1, -x^3, 0, x^2 - x, x^2, 1], [0, x^3 - x, -x, 0, 1, -1, -x^3 + x, x, 0, -x^3, -x^3 - 1, x^2 + 1, x^2 + x + 1, 0, 1, x^2, 0], [-x^3 - x^2, x^3 + x, -x^2 + x + 1, -x^2 + x, x^2 - x, -x^2 + x, x^3 - 1, 1, -x^2, -1, -x^2 - x, -2*x^3 - 1, -x^2, x^3 - x^2 - 1, 0, -x^2 + x, -x^2 - 1], [-x^2 + x + 1, 1, x^3 - x, 0, x^3 - x, x, -x^2, x^3, x + 1, x^2, x^3 + x^2, 0, x^2 + 1, -x^3 - x, x^3 + x^2 - 1, x + 1, -x^3], [0, -x^3 + x^2 + x - 1, x^3, x^3 - x^2 + 1, -2*x^3, -x^3 + 1, -x^3 - x^2, -x^3 + x^2 - x, 0, -2*x, x^2 - x + 1, x^3 + x + 1, -x, x, x^3 - 1, 2*x^3 - x^2, x^2 - x], [-1, -x^3, -x^2 + x - 1, x^3 - x^2 - 2*x - 1, -x^3 - x^2 + 1, x^3 + x - 1, x^2, x, 1, -x, x^3 + x^2, -x^3 + x^2 + x + 1, -2*x^3 + x^2 + 1, -x, x^3 - x + 1, -x^3 - x^2 - 2*x, -x^3 + 2*x^2 + 1], [-x^3 - x^2 + x + 1, 2*x^3 - x^2 - x, -x, -x^3 - x - 1, x + 1, -x^3 - x^2 + 2*x - 2, -2*x^3 - x - 1, x^3 - 2*x^2, -1, -x^2 - x - 1, -x^3 + x^2 - x + 2, -x^3 - x - 1, x + 1, -x^3 + x^2 - 2*x + 1, -2*x^2 - x, x^3 - x, -1], [-x^2, -x^2 - x, -x^3 + 3*x^2 - x, x^3 + 2*x^2 - x, -x^3 - x^2 + x - 1, -2*x^2 + 1, x^3 + x^2 - 1, -2*x^3 - x + 1, -x^3, x^3 - x - 1, 1, -x^3 + x^2 - x + 1, -x^3 - 2*x + 2, x^3 - x, -2*x^3 - x^2 - x, -x, x^3 - 2*x^2 - 1], [x^3, x^2 - x - 2, -x^3 + x^2 + x, 1, -2*x^3 - x + 1, x^3 - x^2 + 2*x, -x^3 - 2*x^2 + 1, -2*x^3 - x^2 + 3*x, 2*x^3 - x^2 - 3*x + 1, -2*x^3 - x^2 - 3*x - 2, x^3 + 2*x^2 + x - 1, -x^3 + x, x^3 - 2*x^2 + x, -2*x^3 + x^2 - x + 2, x^3 - 1, -x^3 - x^2 + x + 2, 2*x^3 - x^2 - x], [-4549674*x^3 + 1012173*x^2 + 869160*x + 3465765, 2427660*x^3 - 1077603*x^2 + 900263*x + 1508579, 0, 0, 0, 0, 0, 0, 0, 0, 0, 0, 0, 0, 0, 0, 0]]\n"
     ]
    }
   ],
   "source": [
    "A, B = mod_ntru_gen()"
   ]
  },
  {
   "cell_type": "code",
   "execution_count": 30,
   "metadata": {},
   "outputs": [
    {
     "data": {
      "text/plain": [
       "[                                      1]\n",
       "[40665*x^3 + 38283*x^2 + 18236*x + 42942]\n",
       "[12122*x^3 + 37303*x^2 + 22573*x + 20652]\n",
       "[ 34050*x^3 + 36483*x^2 + 18460*x + 9853]\n",
       "[22799*x^3 + 26139*x^2 + 16580*x + 24926]\n",
       "[ 39824*x^3 + 34714*x^2 + 1392*x + 29216]\n",
       "[  42142*x^3 + 19135*x^2 + 3894*x + 6665]\n",
       "[ 26253*x^3 + 21347*x^2 + 7546*x + 10442]\n",
       "[  35853*x^3 + 3200*x^2 + 18362*x + 6301]\n",
       "[ 43630*x^3 + 24151*x^2 + 4546*x + 21102]\n",
       "[ 2424*x^3 + 37021*x^2 + 32119*x + 36349]\n",
       "[  31889*x^3 + 3825*x^2 + 38866*x + 5466]\n",
       "[20653*x^3 + 22036*x^2 + 37875*x + 30770]\n",
       "[ 40210*x^3 + 4895*x^2 + 18057*x + 24361]\n",
       "[ 44340*x^3 + 25748*x^2 + 17255*x + 7816]\n",
       "[  6251*x^3 + 8193*x^2 + 13805*x + 35451]\n",
       "[   623*x^3 + 5778*x^2 + 22406*x + 22261]"
      ]
     },
     "execution_count": 30,
     "metadata": {},
     "output_type": "execute_result"
    }
   ],
   "source": [
    "A"
   ]
  },
  {
   "cell_type": "code",
   "execution_count": 31,
   "metadata": {},
   "outputs": [
    {
     "data": {
      "text/plain": [
       "[                                              1                                               0                                               0                                               0                                               0                                               0                                               0                                               0                                               0                                               0                                              -1                                               0                                             x^2                                               0                                               0                                            -x^3                                               0]\n",
       "[                                              0                                               0                                               0                                             x^2                                               0                                               0                                               0                                               0                                               0                                               0                                               0                                             x^3                                               1                                               0                                               0                                               0                                               0]\n",
       "[                                              0                                               0                                               0                                               0                                               0                                               0                                            -x^3                                               0                                              -x                                               0                                              -x                                         x^3 - 1                                               0                                         x^3 - 1                                               0                                               0                                               0]\n",
       "[                                            x^2                                               0                                            -x^3                                               0                                               0                                            -x^2                                               x                                               0                                               0                                               0                                               0                                               0                                               0                                               0                                              -x                                               1                                             x^2]\n",
       "[                                              0                                               0                                       x^3 + x^2                                             x^3                                              -1                                               0                                               0                                               0                                               0                                               0                                               0                                            -x^3                                               0                                               0                                              -x                                        -x^3 - x                                               0]\n",
       "[                                              1                                               x                                       x^3 + x^2                                               0                                               0                                            -x^3                                               0                                               0                                               0                                             x^2                                               0                                             x^2                                        -x^3 + x                                             x^3                                               0                                               0                                             x^2]\n",
       "[                                            x^2                                           x - 1                                               0                                        -x^3 + 1                                               0                                               0                                    -x^3 + x - 1                                               0                                              -1                                               0                                         x^2 + 1                                       x^3 + x^2                                        -x^3 + 1                                             x^2                                        -x^2 + 1                                             x^3                                        -x^3 + x]\n",
       "[                                              0                                             x^2                                               0                                              -x                                            -x^2                                         x^3 - 1                                               x                                              -1                                               0                                            -x^2                                               0                                         x^3 + 1                                            -x^3                                               0                                         x^2 - x                                             x^2                                               1]\n",
       "[                                              0                                         x^3 - x                                              -x                                               0                                               1                                              -1                                        -x^3 + x                                               x                                               0                                            -x^3                                        -x^3 - 1                                         x^2 + 1                                     x^2 + x + 1                                               0                                               1                                             x^2                                               0]\n",
       "[                                     -x^3 - x^2                                         x^3 + x                                    -x^2 + x + 1                                        -x^2 + x                                         x^2 - x                                        -x^2 + x                                         x^3 - 1                                               1                                            -x^2                                              -1                                        -x^2 - x                                      -2*x^3 - 1                                            -x^2                                   x^3 - x^2 - 1                                               0                                        -x^2 + x                                        -x^2 - 1]\n",
       "[                                   -x^2 + x + 1                                               1                                         x^3 - x                                               0                                         x^3 - x                                               x                                            -x^2                                             x^3                                           x + 1                                             x^2                                       x^3 + x^2                                               0                                         x^2 + 1                                        -x^3 - x                                   x^3 + x^2 - 1                                           x + 1                                            -x^3]\n",
       "[                                              0                              -x^3 + x^2 + x - 1                                             x^3                                   x^3 - x^2 + 1                                          -2*x^3                                        -x^3 + 1                                      -x^3 - x^2                                  -x^3 + x^2 - x                                               0                                            -2*x                                     x^2 - x + 1                                     x^3 + x + 1                                              -x                                               x                                         x^3 - 1                                     2*x^3 - x^2                                         x^2 - x]\n",
       "[                                             -1                                            -x^3                                    -x^2 + x - 1                             x^3 - x^2 - 2*x - 1                                  -x^3 - x^2 + 1                                     x^3 + x - 1                                             x^2                                               x                                               1                                              -x                                       x^3 + x^2                              -x^3 + x^2 + x + 1                                -2*x^3 + x^2 + 1                                              -x                                     x^3 - x + 1                                -x^3 - x^2 - 2*x                                -x^3 + 2*x^2 + 1]\n",
       "[                             -x^3 - x^2 + x + 1                                 2*x^3 - x^2 - x                                              -x                                    -x^3 - x - 1                                           x + 1                            -x^3 - x^2 + 2*x - 2                                  -2*x^3 - x - 1                                     x^3 - 2*x^2                                              -1                                    -x^2 - x - 1                              -x^3 + x^2 - x + 2                                    -x^3 - x - 1                                           x + 1                            -x^3 + x^2 - 2*x + 1                                      -2*x^2 - x                                         x^3 - x                                              -1]\n",
       "[                                           -x^2                                        -x^2 - x                                -x^3 + 3*x^2 - x                                 x^3 + 2*x^2 - x                              -x^3 - x^2 + x - 1                                      -2*x^2 + 1                                   x^3 + x^2 - 1                                  -2*x^3 - x + 1                                            -x^3                                     x^3 - x - 1                                               1                              -x^3 + x^2 - x + 1                                  -x^3 - 2*x + 2                                         x^3 - x                                -2*x^3 - x^2 - x                                              -x                                 x^3 - 2*x^2 - 1]\n",
       "[                                            x^3                                     x^2 - x - 2                                  -x^3 + x^2 + x                                               1                                  -2*x^3 - x + 1                                 x^3 - x^2 + 2*x                                -x^3 - 2*x^2 + 1                              -2*x^3 - x^2 + 3*x                           2*x^3 - x^2 - 3*x + 1                          -2*x^3 - x^2 - 3*x - 2                             x^3 + 2*x^2 + x - 1                                        -x^3 + x                                 x^3 - 2*x^2 + x                            -2*x^3 + x^2 - x + 2                                         x^3 - 1                              -x^3 - x^2 + x + 2                                 2*x^3 - x^2 - x]\n",
       "[-4549674*x^3 + 1012173*x^2 + 869160*x + 3465765  2427660*x^3 - 1077603*x^2 + 900263*x + 1508579                                               0                                               0                                               0                                               0                                               0                                               0                                               0                                               0                                               0                                               0                                               0                                               0                                               0                                               0                                               0]"
      ]
     },
     "execution_count": 31,
     "metadata": {},
     "output_type": "execute_result"
    }
   ],
   "source": [
    "B"
   ]
  },
  {
   "cell_type": "code",
   "execution_count": 32,
   "metadata": {},
   "outputs": [
    {
     "data": {
      "text/plain": [
       "[0]\n",
       "[0]\n",
       "[0]\n",
       "[0]\n",
       "[0]\n",
       "[0]\n",
       "[0]\n",
       "[0]\n",
       "[0]\n",
       "[0]\n",
       "[0]\n",
       "[0]\n",
       "[0]\n",
       "[0]\n",
       "[0]\n",
       "[0]\n",
       "[0]"
      ]
     },
     "execution_count": 32,
     "metadata": {},
     "output_type": "execute_result"
    }
   ],
   "source": [
    "((B * A) % (x^n + 1)) % q"
   ]
  },
  {
   "cell_type": "code",
   "execution_count": 33,
   "metadata": {},
   "outputs": [
    {
     "data": {
      "text/plain": [
       "44579"
      ]
     },
     "execution_count": 33,
     "metadata": {},
     "output_type": "execute_result"
    }
   ],
   "source": [
    "(B.determinant()) % (x^n + 1)"
   ]
  },
  {
   "cell_type": "code",
   "execution_count": 26,
   "metadata": {},
   "outputs": [
    {
     "data": {
      "text/plain": [
       "30.032966861938426"
      ]
     },
     "execution_count": 26,
     "metadata": {},
     "output_type": "execute_result"
    }
   ],
   "source": [
    "max_gs_norm"
   ]
  },
  {
   "cell_type": "code",
   "execution_count": 36,
   "metadata": {},
   "outputs": [
    {
     "name": "stdout",
     "output_type": "stream",
     "text": [
      "GS norm = 29.318771982156832\n"
     ]
    }
   ],
   "source": [
    "from sage.modules.misc import gram_schmidt\n",
    "Qx.<x> = QQ[]\n",
    "S = Qx.quotient(x^n + 1)\n",
    "B_matQ = matrix(S, k + 1, k + 1, B)\n",
    "try:\n",
    "    G, mu = gram_schmidt(B_matQ.rows())\n",
    "    print(\"GS norm =\", cal_mat_norm(G))\n",
    "except (ZeroDivisionError, ValueError):\n",
    "    print(1)"
   ]
  }
 ],
 "metadata": {
  "kernelspec": {
   "display_name": "SageMath 9.3",
   "language": "sage",
   "name": "sagemath-9.3"
  },
  "language_info": {
   "codemirror_mode": {
    "name": "ipython",
    "version": 3
   },
   "file_extension": ".py",
   "mimetype": "text/x-python",
   "name": "python",
   "nbconvert_exporter": "python",
   "pygments_lexer": "ipython3",
   "version": "3.9.2"
  }
 },
 "nbformat": 4,
 "nbformat_minor": 4
}
